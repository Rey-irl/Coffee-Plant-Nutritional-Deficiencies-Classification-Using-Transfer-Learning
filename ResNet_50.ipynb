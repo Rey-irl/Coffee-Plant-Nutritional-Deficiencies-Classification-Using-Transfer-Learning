{
  "nbformat": 4,
  "nbformat_minor": 0,
  "metadata": {
    "colab": {
      "provenance": [],
      "machine_shape": "hm",
      "gpuType": "T4",
      "authorship_tag": "ABX9TyMYzxNNHTQa3Wpk7KGa3gG2",
      "include_colab_link": true
    },
    "kernelspec": {
      "name": "python3",
      "display_name": "Python 3"
    },
    "language_info": {
      "name": "python"
    },
    "accelerator": "GPU"
  },
  "cells": [
    {
      "cell_type": "markdown",
      "metadata": {
        "id": "view-in-github",
        "colab_type": "text"
      },
      "source": [
        "<a href=\"https://colab.research.google.com/github/Rey-irl/Coffee-Plant-Nutritional-Deficiencies-Classification-Using-Transfer-Learning/blob/main/ResNet_50.ipynb\" target=\"_parent\"><img src=\"https://colab.research.google.com/assets/colab-badge.svg\" alt=\"Open In Colab\"/></a>"
      ]
    },
    {
      "cell_type": "code",
      "execution_count": null,
      "metadata": {
        "id": "lOFPC99oBUdp"
      },
      "outputs": [],
      "source": [
        "import matplotlib.pyplot as plt\n",
        "import numpy as np\n",
        "from google.colab import drive"
      ]
    },
    {
      "cell_type": "code",
      "source": [
        "from tensorflow.keras.preprocessing.image import ImageDataGenerator\n",
        "from tensorflow.keras.applications import VGG16, ResNet50, DenseNet121, InceptionV3, MobileNetV2, InceptionResNetV2\n",
        "from tensorflow.keras import layers, Model\n",
        "from tensorflow.keras.callbacks import EarlyStopping\n",
        "import tensorflow as tf\n",
        "import matplotlib.pyplot as plt"
      ],
      "metadata": {
        "id": "5BP8ThLxrQOs"
      },
      "execution_count": null,
      "outputs": []
    },
    {
      "cell_type": "code",
      "source": [
        "import numpy as np\n",
        "from sklearn.metrics import confusion_matrix, accuracy_score, recall_score, precision_score, f1_score\n",
        "import seaborn as sns"
      ],
      "metadata": {
        "id": "Zyid_-aYsvPD"
      },
      "execution_count": null,
      "outputs": []
    },
    {
      "cell_type": "code",
      "source": [
        "# Check GPU availability\n",
        "print(\"Num GPUs Available: \", len(tf.config.experimental.list_physical_devices('GPU')))"
      ],
      "metadata": {
        "colab": {
          "base_uri": "https://localhost:8080/"
        },
        "id": "gtYa-4wrCuuZ",
        "outputId": "fb215c68-be6b-4c0d-85f1-4cf8033525f1"
      },
      "execution_count": null,
      "outputs": [
        {
          "output_type": "stream",
          "name": "stdout",
          "text": [
            "Num GPUs Available:  1\n"
          ]
        }
      ]
    },
    {
      "cell_type": "code",
      "source": [
        "# Mount Google Drive\n",
        "drive.mount('/content/drive')"
      ],
      "metadata": {
        "id": "xAqrN14cCAul",
        "colab": {
          "base_uri": "https://localhost:8080/"
        },
        "outputId": "cf3c2af9-42b8-4ca9-e591-fa4ad7b6a2db"
      },
      "execution_count": null,
      "outputs": [
        {
          "output_type": "stream",
          "name": "stdout",
          "text": [
            "Mounted at /content/drive\n"
          ]
        }
      ]
    },
    {
      "cell_type": "code",
      "source": [
        "data_path = \"/content/drive/MyDrive/RCP-CNN-1/CoLeaf-augmented\""
      ],
      "metadata": {
        "id": "Ksq2bmyNIMyZ"
      },
      "execution_count": null,
      "outputs": []
    },
    {
      "cell_type": "code",
      "source": [
        "train_dir= '/content/drive/MyDrive/RCP-CNN-1/CoLeaf-augmented/train'\n",
        "val_dir= '/content/drive/MyDrive/RCP-CNN-1/CoLeaf-augmented/eval'\n",
        "test_dir= '/content/drive/MyDrive/RCP-CNN-1/CoLeaf-augmented/test'"
      ],
      "metadata": {
        "id": "Zx8lrOvMqzAQ"
      },
      "execution_count": null,
      "outputs": []
    },
    {
      "cell_type": "code",
      "source": [
        "# Define image size and batch size\n",
        "img_size = (224, 224)  # Example image size, adjust as needed\n",
        "batch_size = 32  # Example batch size, adjust as needed"
      ],
      "metadata": {
        "id": "q7qGKpZnBkg_"
      },
      "execution_count": null,
      "outputs": []
    },
    {
      "cell_type": "code",
      "source": [
        "# Data generators\n",
        "train_datagen = ImageDataGenerator(rescale=1./255,\n",
        "                                   rotation_range=30,\n",
        "                                   width_shift_range=0.2,\n",
        "                                   height_shift_range=0.2,\n",
        "                                   shear_range=0.2,\n",
        "                                   zoom_range=0.2,\n",
        "                                   horizontal_flip=True,\n",
        "                                   fill_mode='nearest'\n",
        "                                   )\n",
        "\n",
        "val_test_datagen = ImageDataGenerator(rescale=1./255)"
      ],
      "metadata": {
        "id": "_naj-yj1beBu"
      },
      "execution_count": null,
      "outputs": []
    },
    {
      "cell_type": "code",
      "source": [
        "# Cargar los datasets usando tf.data\n",
        "train_dataset = tf.keras.utils.image_dataset_from_directory(\n",
        "    train_dir,\n",
        "    image_size=img_size,\n",
        "    batch_size=batch_size,\n",
        "    label_mode='categorical',\n",
        "    shuffle=True\n",
        ")\n",
        "\n",
        "val_dataset = tf.keras.utils.image_dataset_from_directory(\n",
        "    val_dir,\n",
        "    image_size=img_size,\n",
        "    batch_size=batch_size,\n",
        "    label_mode='categorical',\n",
        "    shuffle=True\n",
        ")\n",
        "\n",
        "test_dataset = tf.keras.utils.image_dataset_from_directory(\n",
        "    test_dir,\n",
        "    image_size=img_size,\n",
        "    batch_size=batch_size,\n",
        "    label_mode='categorical',\n",
        "    shuffle=False\n",
        ")\n",
        "\n",
        "# Capture class names before transforming datasets\n",
        "class_names = train_dataset.class_names"
      ],
      "metadata": {
        "id": "3D9EczWMgGi0",
        "colab": {
          "base_uri": "https://localhost:8080/"
        },
        "outputId": "2cad673c-7280-447a-cae4-0fb46b4b652c"
      },
      "execution_count": null,
      "outputs": [
        {
          "output_type": "stream",
          "name": "stdout",
          "text": [
            "Found 17301 files belonging to 10 classes.\n",
            "Found 3708 files belonging to 10 classes.\n",
            "Found 3712 files belonging to 10 classes.\n"
          ]
        }
      ]
    },
    {
      "cell_type": "code",
      "source": [
        "# Función de aumento de datos\n",
        "def augment(image, label):\n",
        "    image = tf.image.random_flip_left_right(image)\n",
        "    image = tf.image.random_brightness(image, max_delta=0.2)\n",
        "    image = tf.image.random_contrast(image, lower=0.8, upper=1.2)\n",
        "    return image, label"
      ],
      "metadata": {
        "id": "6haqD-0EqG4O"
      },
      "execution_count": null,
      "outputs": []
    },
    {
      "cell_type": "code",
      "source": [
        "# Aplicar aumentos y optimizaciones al pipeline\n",
        "AUTOTUNE = tf.data.experimental.AUTOTUNE\n",
        "\n",
        "train_dataset = train_dataset.map(augment, num_parallel_calls=AUTOTUNE)\n",
        "train_dataset = train_dataset.cache()\n",
        "train_dataset = train_dataset.shuffle(buffer_size=1000)\n",
        "train_dataset = train_dataset.prefetch(buffer_size=AUTOTUNE)\n",
        "\n",
        "val_dataset = val_dataset.cache()\n",
        "val_dataset = val_dataset.prefetch(buffer_size=AUTOTUNE)\n",
        "\n",
        "test_dataset = test_dataset.cache()\n",
        "test_dataset = test_dataset.prefetch(buffer_size=AUTOTUNE)\n"
      ],
      "metadata": {
        "id": "y3-fdTMFqG7P"
      },
      "execution_count": null,
      "outputs": []
    },
    {
      "cell_type": "code",
      "source": [
        "def build_model(base_model):\n",
        "    x = base_model.output\n",
        "    x = layers.GlobalAveragePooling2D()(x)\n",
        "    x = layers.BatchNormalization()(x)\n",
        "    x = layers.Dense(1024, activation='relu', kernel_regularizer=tf.keras.regularizers.l2(0.001))(x)\n",
        "    x = layers.Dropout(0.5)(x)  # 50% Dropout\n",
        "    predictions = layers.Dense(len(class_names), activation='softmax')(x)\n",
        "    model = Model(inputs=base_model.input, outputs=predictions)\n",
        "    return model"
      ],
      "metadata": {
        "id": "yU9DyaZyrnUT"
      },
      "execution_count": null,
      "outputs": []
    },
    {
      "cell_type": "code",
      "source": [
        "def build_and_train_model(base_model, model_name):\n",
        "    for layer in base_model.layers:\n",
        "        layer.trainable = False  # Freeze all layers in the base model\n",
        "\n",
        "    model = build_model(base_model)\n",
        "\n",
        "    # Learning rate schedule\n",
        "    lr_schedule = tf.keras.optimizers.schedules.ExponentialDecay(\n",
        "        initial_learning_rate=1e-3,\n",
        "        decay_steps=100000,\n",
        "        decay_rate=0.96,\n",
        "        staircase=True\n",
        "    )\n",
        "\n",
        "    model.compile(optimizer=tf.keras.optimizers.Adam(learning_rate=lr_schedule),\n",
        "                  loss='categorical_crossentropy',\n",
        "                  metrics=['accuracy'])\n",
        "\n",
        "    # Train the model\n",
        "    history = model.fit(\n",
        "        train_dataset,\n",
        "        validation_data=val_dataset,\n",
        "        epochs=50\n",
        "        #callbacks=[early_stopping]\n",
        "    )\n",
        "\n",
        "    return model, history"
      ],
      "metadata": {
        "id": "B47gYCmaB9wh"
      },
      "execution_count": null,
      "outputs": []
    },
    {
      "cell_type": "code",
      "source": [
        "def plot_history(history, model_name):\n",
        "    acc = history.history['accuracy']\n",
        "    val_acc = history.history['val_accuracy']\n",
        "    loss = history.history['loss']\n",
        "    val_loss = history.history['val_loss']\n",
        "\n",
        "    epochs_range = range(len(acc))\n",
        "\n",
        "    plt.figure(figsize=(10, 8))\n",
        "    plt.subplot(2, 1, 1)\n",
        "    plt.plot(epochs_range, acc, label='Training Accuracy')\n",
        "    plt.plot(epochs_range, val_acc, label='Validation Accuracy')\n",
        "    plt.legend(loc='lower right')\n",
        "    plt.title(f'{model_name} Training and Validation Accuracy')\n",
        "\n",
        "    plt.subplot(2, 1, 2)\n",
        "    plt.plot(epochs_range, loss, label='Training Loss')\n",
        "    plt.plot(epochs_range, val_loss, label='Validation Loss')\n",
        "    plt.legend(loc='upper right')\n",
        "    plt.title(f'{model_name} Training and Validation Loss')\n",
        "\n",
        "    plt.show()"
      ],
      "metadata": {
        "id": "vNUZ2Wz6d06E"
      },
      "execution_count": null,
      "outputs": []
    },
    {
      "cell_type": "code",
      "source": [
        "# Fine-tuning function\n",
        "def fine_tune_model(model, base_model, fine_tune_at=100):\n",
        "    # Unfreeze the base model from the specified layer onward\n",
        "    for layer in base_model.layers[:fine_tune_at]:\n",
        "        layer.trainable = False\n",
        "    for layer in base_model.layers[fine_tune_at:]:\n",
        "        layer.trainable = True\n",
        "\n",
        "    model.compile(optimizer=tf.keras.optimizers.Adam(learning_rate=1e-5),\n",
        "                  loss='categorical_crossentropy',\n",
        "                  metrics=['accuracy'])\n",
        "\n",
        "    history_fine = model.fit(\n",
        "        train_dataset,\n",
        "        validation_data=val_dataset,\n",
        "        epochs=10  # Fine-tune for an additional 10 epochs\n",
        "    )\n",
        "\n",
        "    return history_fine"
      ],
      "metadata": {
        "id": "X6Vyyo0DIKYc"
      },
      "execution_count": null,
      "outputs": []
    },
    {
      "cell_type": "code",
      "source": [
        "# Function to train ResNet50\n",
        "def train_resnet50():\n",
        "    # Initialize ResNet50 base model\n",
        "    base_model = ResNet50(weights='imagenet', include_top=False, input_shape=(224, 224, 3))\n",
        "\n",
        "    for layer in base_model.layers:\n",
        "        layer.trainable = False  # Freeze the base model layers\n",
        "\n",
        "    # Build and train the model using ResNet50 as the base\n",
        "    model, history = build_and_train_model(base_model, 'ResNet50')\n",
        "\n",
        "    # Plot the training history\n",
        "    plot_history(history, 'ResNet50')\n",
        "\n",
        "    return model, base_model  # Return the model and the base model for further fine-tuning or evaluation"
      ],
      "metadata": {
        "id": "-yzm7UccIQUJ"
      },
      "execution_count": null,
      "outputs": []
    },
    {
      "cell_type": "code",
      "source": [
        "# Train the ResNet50 model\n",
        "resnet50_model, resnet50_base_model = train_resnet50()\n",
        "\n",
        "# Fine-tune the ResNet50 model\n",
        "history_fine = fine_tune_model(resnet50_model, resnet50_base_model, fine_tune_at=100)  # Fine-tune from layer 100 onward\n",
        "plot_history(history_fine, 'ResNet50 Fine-Tuned')"
      ],
      "metadata": {
        "colab": {
          "base_uri": "https://localhost:8080/"
        },
        "id": "aIEdDWiOI6Mh",
        "outputId": "f84886f4-aee6-4e37-e1e1-71c4b33c152c"
      },
      "execution_count": null,
      "outputs": [
        {
          "output_type": "stream",
          "name": "stdout",
          "text": [
            "Downloading data from https://storage.googleapis.com/tensorflow/keras-applications/resnet/resnet50_weights_tf_dim_ordering_tf_kernels_notop.h5\n",
            "\u001b[1m94765736/94765736\u001b[0m \u001b[32m━━━━━━━━━━━━━━━━━━━━\u001b[0m\u001b[37m\u001b[0m \u001b[1m7s\u001b[0m 0us/step\n",
            "Epoch 1/50\n"
          ]
        }
      ]
    },
    {
      "cell_type": "markdown",
      "source": [
        "## Evaluation"
      ],
      "metadata": {
        "id": "FtwMhI5Ms-PM"
      }
    },
    {
      "cell_type": "code",
      "source": [
        "# Evaluate the model on the test dataset\n",
        "test_loss, test_accuracy = resnet50_model.evaluate(test_dataset)\n",
        "print(f\"Test Accuracy: {test_accuracy * 100:.2f}%\")\n",
        "print(f\"Test Loss: {test_loss:.4f}\")"
      ],
      "metadata": {
        "id": "JphT65oInxvK",
        "colab": {
          "base_uri": "https://localhost:8080/"
        },
        "outputId": "cca66462-aa9b-4360-b084-06a1c28b833e"
      },
      "execution_count": null,
      "outputs": [
        {
          "output_type": "stream",
          "name": "stdout",
          "text": [
            "\u001b[1m116/116\u001b[0m \u001b[32m━━━━━━━━━━━━━━━━━━━━\u001b[0m\u001b[37m\u001b[0m \u001b[1m370s\u001b[0m 3s/step - accuracy: 0.9541 - loss: 0.3735\n",
            "Test Accuracy: 94.23%\n",
            "Test Loss: 0.4246\n"
          ]
        }
      ]
    },
    {
      "cell_type": "code",
      "source": [
        "predictions = resnet50_model.predict(test_dataset)"
      ],
      "metadata": {
        "colab": {
          "base_uri": "https://localhost:8080/"
        },
        "id": "XrsxCb9Gk9HU",
        "outputId": "5c8ca3e4-ebf1-4c00-a2ce-b733f8f27d39"
      },
      "execution_count": null,
      "outputs": [
        {
          "output_type": "stream",
          "name": "stdout",
          "text": [
            "\u001b[1m116/116\u001b[0m \u001b[32m━━━━━━━━━━━━━━━━━━━━\u001b[0m\u001b[37m\u001b[0m \u001b[1m11s\u001b[0m 72ms/step\n"
          ]
        }
      ]
    },
    {
      "cell_type": "code",
      "source": [
        "# Convert predictions to class labels\n",
        "predicted_classes = tf.argmax(predictions, axis=1)\n",
        "true_classes = tf.concat([y for x, y in test_dataset], axis=0)\n",
        "true_classes = tf.argmax(true_classes, axis=1)"
      ],
      "metadata": {
        "id": "Cu6kQiXIlDDQ"
      },
      "execution_count": null,
      "outputs": []
    },
    {
      "cell_type": "markdown",
      "source": [
        "### Metrics of evaluation based on confusion matrix"
      ],
      "metadata": {
        "id": "B_u4XJ-mtQcN"
      }
    },
    {
      "cell_type": "code",
      "source": [
        "# Display classification report\n",
        "from sklearn.metrics import classification_report\n",
        "print(classification_report(true_classes, predicted_classes, target_names=class_names))"
      ],
      "metadata": {
        "colab": {
          "base_uri": "https://localhost:8080/"
        },
        "id": "D7p8M3xtlIWH",
        "outputId": "720ab823-0e5a-4db5-9528-1a6ed3f735c2"
      },
      "execution_count": null,
      "outputs": [
        {
          "output_type": "stream",
          "name": "stdout",
          "text": [
            "              precision    recall  f1-score   support\n",
            "\n",
            "       boron       0.96      0.97      0.97       401\n",
            "     calcium       0.93      0.95      0.94       374\n",
            "     healthy       0.99      0.98      0.99       382\n",
            "        iron       0.92      0.97      0.94       365\n",
            "   magnesium       0.91      0.90      0.90       372\n",
            "   manganese       0.94      0.90      0.92       363\n",
            "    nitrogen       0.95      0.94      0.95       354\n",
            "      others       0.87      0.90      0.88       362\n",
            "  phosphorus       0.97      0.96      0.97       367\n",
            "    potasium       0.98      0.94      0.96       372\n",
            "\n",
            "    accuracy                           0.94      3712\n",
            "   macro avg       0.94      0.94      0.94      3712\n",
            "weighted avg       0.94      0.94      0.94      3712\n",
            "\n"
          ]
        }
      ]
    },
    {
      "cell_type": "markdown",
      "source": [
        "### Confusion Matrix"
      ],
      "metadata": {
        "id": "7vT4LukZtHWn"
      }
    },
    {
      "cell_type": "code",
      "source": [
        "import seaborn as sns\n",
        "from sklearn.metrics import confusion_matrix\n",
        "\n",
        "# Compute and plot confusion matrix\n",
        "conf_matrix = confusion_matrix(true_classes, predicted_classes)\n",
        "\n",
        "plt.figure(figsize=(10, 8))\n",
        "sns.heatmap(conf_matrix, annot=True, fmt='d', cmap='Blues', xticklabels=class_names, yticklabels=class_names)\n",
        "plt.xlabel('Predicted Label')\n",
        "plt.ylabel('True Label')\n",
        "plt.title('Confusion Matrix')\n",
        "plt.show()"
      ],
      "metadata": {
        "id": "UkHxQBXJnxy3",
        "colab": {
          "base_uri": "https://localhost:8080/",
          "height": 786
        },
        "outputId": "e88a7536-5aba-47ac-b105-c54f720632ad"
      },
      "execution_count": null,
      "outputs": [
        {
          "output_type": "display_data",
          "data": {
            "text/plain": [
              "<Figure size 1000x800 with 2 Axes>"
            ],
            "image/png": "[encoded data removed]"
          },
          "metadata": {}
        }
      ]
    },
    {
      "cell_type": "code",
      "source": [],
      "metadata": {
        "id": "gyFP8RZonx5f"
      },
      "execution_count": null,
      "outputs": []
    }
  ]
}